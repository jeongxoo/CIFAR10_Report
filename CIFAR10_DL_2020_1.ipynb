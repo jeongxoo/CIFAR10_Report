{
  "nbformat": 4,
  "nbformat_minor": 0,
  "metadata": {
    "colab": {
      "name": "CIFAR10_DL_2020_1",
      "provenance": [],
      "collapsed_sections": [
        "F4gAyKP5qDEE",
        "yiVV6OobqJ9s",
        "nUQvbAknrmo4",
        "h6HSXgYHqNMa",
        "9-zrAg9DpXi5",
        "vzToTlnUqqyi",
        "Ehdnitt_sVAk",
        "-gtIkU9qtXcp",
        "LIkrSw7_thH1"
      ]
    },
    "kernelspec": {
      "name": "python3",
      "display_name": "Python 3"
    },
    "accelerator": "GPU"
  },
  "cells": [
    {
      "cell_type": "markdown",
      "metadata": {
        "id": "6PqVdMJ_mcFm"
      },
      "source": [
        "# CIFAR10 학습 (CNN)"
      ]
    },
    {
      "cell_type": "code",
      "metadata": {
        "id": "iqUuK2u4mEgt"
      },
      "source": [
        "import numpy as np\n",
        "import torch\n",
        "import torch.nn as nn\n",
        "import torch.optim as optim\n",
        "import torch.nn.init as init\n",
        "import torchvision.datasets as dset\n",
        "import torchvision.transforms as transforms\n",
        "from torch.utils.data import DataLoader\n",
        "from torch.autograd import Variable\n",
        "import matplotlib.pyplot as plt\n",
        "\n",
        "#(8) learning rate decay\n",
        "from torch.optim import lr_scheduler\n",
        "\n",
        "batch_size = 16\n",
        "learning_rate = 0.002\n",
        "num_epoch = 150"
      ],
      "execution_count": null,
      "outputs": []
    },
    {
      "cell_type": "markdown",
      "metadata": {
        "id": "Rygz59NxmdLk"
      },
      "source": [
        "# 1. CIFAR10 train, test data set 가져오기 (163MB)"
      ]
    },
    {
      "cell_type": "code",
      "metadata": {
        "id": "16nTLSaCmdx-",
        "colab": {
          "base_uri": "https://localhost:8080/",
          "height": 53
        },
        "outputId": "a45d5670-4739-4ff7-c936-7496a3ca11de"
      },
      "source": [
        "cifar_train = dset.CIFAR10(\"CIFAR10/\", train = True, transform = transforms.ToTensor(), target_transform = None, download = True)\n",
        "#cifar_train = dset.CIFAR10(\"CIFAR10/\", train = True,\n",
        "#                         transform = transforms.Compose([\n",
        "#                         transforms.Scale(36),\n",
        "#                         transforms.CenterCrop(32),\n",
        "#                         transforms.RandomHorizontalFlip(),\n",
        "#                         transforms.Lambda( lambda x : x.rotate(90)),\n",
        "#                         transforms.ToTensor()]))\n",
        "cifar_test = dset.CIFAR10(\"CIFAR10/\", train = False, transform = transforms.ToTensor(), target_transform = None, download = True)\n",
        "\n",
        "#(4) data normalization\n",
        "#cifar_train = dset.CIFAR10(\"CIFAR10/\", train = True,\n",
        "#                          transform = transforms.Compose([\n",
        "#                             transforms.ToTensor(),\n",
        "#                              transforms.Normalize(mean = (0.5,0.5,0.5), std = (0.5,0.5,0.5)),\n",
        "#                          ])\n",
        "#                          , target_transform = None, download = False)\n",
        "\n",
        "#cifar_test = dset.CIFAR10(\"CIFAR10/\", train = False,\n",
        "#                          transform = transforms.Compose([\n",
        "#                              transforms.ToTensor(),\n",
        "#                              transforms.Normalize(mean = (0.5,0.5,0.5), std = (0.5,0.5,0.5)),\n",
        "#                          ])\n",
        "#                          , target_transform = None, download = False)"
      ],
      "execution_count": null,
      "outputs": [
        {
          "output_type": "stream",
          "text": [
            "Files already downloaded and verified\n",
            "Files already downloaded and verified\n"
          ],
          "name": "stdout"
        }
      ]
    },
    {
      "cell_type": "markdown",
      "metadata": {
        "id": "yvdYO6Hrmd64"
      },
      "source": [
        "# 2. 대략적인 데이터 형태\n"
      ]
    },
    {
      "cell_type": "code",
      "metadata": {
        "id": "grK9oTagmeDV",
        "colab": {
          "base_uri": "https://localhost:8080/",
          "height": 281
        },
        "outputId": "74c9589e-1984-4190-d03e-eb7bab9ebaaa"
      },
      "source": [
        "# 데이터 하나의 형태\n",
        "image, label = cifar_train.__getitem__(3) # 3번째 데이터\n",
        "\n",
        "# 그리기\n",
        "img = image.numpy() # 이미지 타입을 넘파이 타입으로 변환\n",
        "\n",
        "# (3, 32, 32) > (32, 32, 3)\n",
        "r,g,b = img[0,:,:], img[1,:,:], img[2,:,:]\n",
        "\n",
        "#img = img.reshape(img.shape[1], img.shape[2], img.shape[0])\n",
        "img2 = np.zeros((img.shape[1], img.shape[2], img.shape[0]))\n",
        "img2[:,:,0], img2[:,:,1], img2[:,:,2] = r,g,b\n",
        "\n",
        "plt.title(\"label: %d\" %label)\n",
        "plt.imshow(img2,interpolation='bicubic')\n",
        "plt.show()"
      ],
      "execution_count": null,
      "outputs": [
        {
          "output_type": "display_data",
          "data": {
            "image/png": "[encoded data removed]",
            "text/plain": [
              "<Figure size 432x288 with 1 Axes>"
            ]
          },
          "metadata": {
            "tags": [],
            "needs_background": "light"
          }
        }
      ]
    },
    {
      "cell_type": "markdown",
      "metadata": {
        "id": "g-IO5wQ6meLR"
      },
      "source": [
        "# 정학도 측정 함수\n"
      ]
    },
    {
      "cell_type": "code",
      "metadata": {
        "id": "uyQLtsyEmeSt"
      },
      "source": [
        "# 정학도 측정 함수\n",
        "def ComputeAccr(dloader, imodel):\n",
        "    correct = 0\n",
        "    total = 0\n",
        "    \n",
        "    for j, [imgs, labels] in enumerate(dloader): # batch_size 만큼\n",
        "        img = Variable(imgs,volatile = True).cuda() # x\n",
        "        label = Variable(labels).cuda() # y\n",
        "        \n",
        "        output = imodel.forward(img) #forward prop.\n",
        "        _, output_index = torch.max(output, 1)\n",
        "        \n",
        "        total += label.size(0)\n",
        "        correct += (output_index == label).sum().float()\n",
        "    \n",
        "    print(\"Accuracy of Test Data : {}\" .format(100*correct/total))"
      ],
      "execution_count": null,
      "outputs": []
    },
    {
      "cell_type": "markdown",
      "metadata": {
        "id": "SJWnVBP-meZy"
      },
      "source": [
        "# 3. 데이터 로드 함수"
      ]
    },
    {
      "cell_type": "code",
      "metadata": {
        "id": "YykIJMLJmeg1"
      },
      "source": [
        "train_loader = torch.utils.data.DataLoader(list(cifar_train)[:], batch_size = batch_size, shuffle = True, num_workers = 2, drop_last = True)\n",
        "test_loader = torch.utils.data.DataLoader(cifar_test, batch_size = batch_size, shuffle = False, num_workers = 2, drop_last = True)"
      ],
      "execution_count": null,
      "outputs": []
    },
    {
      "cell_type": "markdown",
      "metadata": {
        "id": "hyA-GcUymenc"
      },
      "source": [
        "# 4. 모델 선언\n"
      ]
    },
    {
      "cell_type": "code",
      "metadata": {
        "id": "0ZoS7zzAmeti"
      },
      "source": [
        "class CNN(nn.Module):\n",
        "    def __init__(self):\n",
        "        super(CNN, self).__init__()\n",
        "        self.layer = nn.Sequential(\n",
        "            nn.Conv2d(3, 16, 3, padding = 1),\n",
        "            nn.ReLU(),\n",
        "            #nn.Dropout2d(0.25),  # (2) drop out\n",
        "            #nn.BatchNorm2d(16), # (6) Batch normalization\n",
        "            nn.Conv2d(16, 32, 3, padding = 1),\n",
        "            nn.ReLU(),\n",
        "            #nn.Dropout2d(0.25),\n",
        "            #nn.BatchNorm2d(32),\n",
        "            nn.MaxPool2d(2,2),\n",
        "            nn.Conv2d(32, 64, 3, padding = 1),\n",
        "            nn.ReLU(),\n",
        "            #nn.Dropout2d(0.25),\n",
        "            #nn.BatchNorm2d(64),\n",
        "            nn.MaxPool2d(2,2)\n",
        "        )  \n",
        "        self.fc_layer = nn.Sequential(\n",
        "            nn.Linear(64*8*8, 100),\n",
        "            nn.ReLU(),\n",
        "            #nn.Dropout2d(0.25),\n",
        "            #nn.BatchNorm1d(100),\n",
        "            nn.Linear(100, 10)\n",
        "        )\n",
        "        \n",
        "        # weight initialization\n",
        "#        for m in self.modules():\n",
        "#            if isinstance(m, nn.Conv2d): # ReLu 일때\n",
        "#                init.kaiming_normal_(m.weight.data)\n",
        "#                m.bias.data.fill_(0)\n",
        "#            if isinstance(m, nn.Linear):\n",
        "#                init.kaiming_normal_(m.weight.data)\n",
        "#                m.bias.data.fill_(0)        \n",
        "    \n",
        "    def forward(self, x):\n",
        "        out = self.layer(x)\n",
        "        out = out.view(batch_size, -1)\n",
        "        out = self.fc_layer(out)\n",
        "        \n",
        "        return out\n",
        "model = CNN().cuda()"
      ],
      "execution_count": null,
      "outputs": []
    },
    {
      "cell_type": "markdown",
      "metadata": {
        "id": "UDCP8GqQme0G"
      },
      "source": [
        "# 5. loss_func, optimizer"
      ]
    },
    {
      "cell_type": "code",
      "metadata": {
        "id": "FgywipMqme5l"
      },
      "source": [
        "loss_func = nn.CrossEntropyLoss()\n",
        "optimizer = torch.optim.SGD(model.parameters(), lr = learning_rate)\n",
        "#optimizer = torch.optim.Adam(model.parameters(), lr = learning_rate)\n",
        "scheduler = lr_scheduler.StepLR(optimizer, step_size = 20, gamma = 0.2)"
      ],
      "execution_count": null,
      "outputs": []
    },
    {
      "cell_type": "markdown",
      "metadata": {
        "id": "0HVAe0_Wme_W"
      },
      "source": [
        "# 6. 학습"
      ]
    },
    {
      "cell_type": "code",
      "metadata": {
        "id": "tAm7pUHgmfEc",
        "colab": {
          "base_uri": "https://localhost:8080/",
          "height": 1000
        },
        "outputId": "c3141c30-cf34-4869-cd18-598c459832a9"
      },
      "source": [
        "model.train()\n",
        "for i in range(num_epoch):\n",
        "    for j,[image, label] in enumerate(train_loader):\n",
        "        x = Variable(image).cuda()\n",
        "        y_ = Variable(label).cuda()\n",
        "        \n",
        "        optimizer.zero_grad()\n",
        "        output = model.forward(x)\n",
        "        loss = loss_func(output, y_)\n",
        "        loss.backward()\n",
        "        optimizer.step()\n",
        "        \n",
        "        if j%4000==0:\n",
        "            print(i, j, loss)"
      ],
      "execution_count": null,
      "outputs": [
        {
          "output_type": "stream",
          "text": [
            "0 0 tensor(2.2936, device='cuda:0', grad_fn=<NllLossBackward>)\n",
            "1 0 tensor(2.2921, device='cuda:0', grad_fn=<NllLossBackward>)\n",
            "2 0 tensor(1.8411, device='cuda:0', grad_fn=<NllLossBackward>)\n",
            "3 0 tensor(2.2556, device='cuda:0', grad_fn=<NllLossBackward>)\n",
            "4 0 tensor(1.2383, device='cuda:0', grad_fn=<NllLossBackward>)\n",
            "5 0 tensor(1.5928, device='cuda:0', grad_fn=<NllLossBackward>)\n",
            "6 0 tensor(1.8882, device='cuda:0', grad_fn=<NllLossBackward>)\n",
            "7 0 tensor(1.2554, device='cuda:0', grad_fn=<NllLossBackward>)\n",
            "8 0 tensor(1.1581, device='cuda:0', grad_fn=<NllLossBackward>)\n",
            "9 0 tensor(1.5889, device='cuda:0', grad_fn=<NllLossBackward>)\n",
            "10 0 tensor(1.2520, device='cuda:0', grad_fn=<NllLossBackward>)\n",
            "11 0 tensor(1.5204, device='cuda:0', grad_fn=<NllLossBackward>)\n",
            "12 0 tensor(1.2857, device='cuda:0', grad_fn=<NllLossBackward>)\n",
            "13 0 tensor(1.1679, device='cuda:0', grad_fn=<NllLossBackward>)\n",
            "14 0 tensor(0.9478, device='cuda:0', grad_fn=<NllLossBackward>)\n",
            "15 0 tensor(1.2865, device='cuda:0', grad_fn=<NllLossBackward>)\n",
            "16 0 tensor(1.0346, device='cuda:0', grad_fn=<NllLossBackward>)\n",
            "17 0 tensor(0.8866, device='cuda:0', grad_fn=<NllLossBackward>)\n",
            "18 0 tensor(0.9596, device='cuda:0', grad_fn=<NllLossBackward>)\n",
            "19 0 tensor(1.2343, device='cuda:0', grad_fn=<NllLossBackward>)\n",
            "20 0 tensor(0.8031, device='cuda:0', grad_fn=<NllLossBackward>)\n",
            "21 0 tensor(0.5889, device='cuda:0', grad_fn=<NllLossBackward>)\n",
            "22 0 tensor(1.1018, device='cuda:0', grad_fn=<NllLossBackward>)\n",
            "23 0 tensor(0.8107, device='cuda:0', grad_fn=<NllLossBackward>)\n",
            "24 0 tensor(0.5119, device='cuda:0', grad_fn=<NllLossBackward>)\n",
            "25 0 tensor(0.6299, device='cuda:0', grad_fn=<NllLossBackward>)\n",
            "26 0 tensor(0.5119, device='cuda:0', grad_fn=<NllLossBackward>)\n",
            "27 0 tensor(0.7805, device='cuda:0', grad_fn=<NllLossBackward>)\n",
            "28 0 tensor(0.5571, device='cuda:0', grad_fn=<NllLossBackward>)\n",
            "29 0 tensor(0.2497, device='cuda:0', grad_fn=<NllLossBackward>)\n",
            "30 0 tensor(0.3352, device='cuda:0', grad_fn=<NllLossBackward>)\n",
            "31 0 tensor(0.5548, device='cuda:0', grad_fn=<NllLossBackward>)\n",
            "32 0 tensor(0.3692, device='cuda:0', grad_fn=<NllLossBackward>)\n",
            "33 0 tensor(0.7413, device='cuda:0', grad_fn=<NllLossBackward>)\n",
            "34 0 tensor(0.6841, device='cuda:0', grad_fn=<NllLossBackward>)\n",
            "35 0 tensor(0.6334, device='cuda:0', grad_fn=<NllLossBackward>)\n",
            "36 0 tensor(0.2318, device='cuda:0', grad_fn=<NllLossBackward>)\n",
            "37 0 tensor(0.2260, device='cuda:0', grad_fn=<NllLossBackward>)\n",
            "38 0 tensor(0.4538, device='cuda:0', grad_fn=<NllLossBackward>)\n",
            "39 0 tensor(0.0708, device='cuda:0', grad_fn=<NllLossBackward>)\n",
            "40 0 tensor(0.4230, device='cuda:0', grad_fn=<NllLossBackward>)\n",
            "41 0 tensor(0.0912, device='cuda:0', grad_fn=<NllLossBackward>)\n",
            "42 0 tensor(0.2628, device='cuda:0', grad_fn=<NllLossBackward>)\n",
            "43 0 tensor(0.2491, device='cuda:0', grad_fn=<NllLossBackward>)\n",
            "44 0 tensor(0.2717, device='cuda:0', grad_fn=<NllLossBackward>)\n",
            "45 0 tensor(0.0874, device='cuda:0', grad_fn=<NllLossBackward>)\n",
            "46 0 tensor(0.1146, device='cuda:0', grad_fn=<NllLossBackward>)\n",
            "47 0 tensor(0.0961, device='cuda:0', grad_fn=<NllLossBackward>)\n",
            "48 0 tensor(0.1222, device='cuda:0', grad_fn=<NllLossBackward>)\n",
            "49 0 tensor(0.0691, device='cuda:0', grad_fn=<NllLossBackward>)\n",
            "50 0 tensor(0.0733, device='cuda:0', grad_fn=<NllLossBackward>)\n",
            "51 0 tensor(0.1252, device='cuda:0', grad_fn=<NllLossBackward>)\n",
            "52 0 tensor(0.3385, device='cuda:0', grad_fn=<NllLossBackward>)\n",
            "53 0 tensor(0.0924, device='cuda:0', grad_fn=<NllLossBackward>)\n",
            "54 0 tensor(0.3705, device='cuda:0', grad_fn=<NllLossBackward>)\n",
            "55 0 tensor(0.0535, device='cuda:0', grad_fn=<NllLossBackward>)\n",
            "56 0 tensor(0.1194, device='cuda:0', grad_fn=<NllLossBackward>)\n",
            "57 0 tensor(0.0142, device='cuda:0', grad_fn=<NllLossBackward>)\n",
            "58 0 tensor(0.0397, device='cuda:0', grad_fn=<NllLossBackward>)\n",
            "59 0 tensor(0.0155, device='cuda:0', grad_fn=<NllLossBackward>)\n",
            "60 0 tensor(0.0374, device='cuda:0', grad_fn=<NllLossBackward>)\n",
            "61 0 tensor(0.1056, device='cuda:0', grad_fn=<NllLossBackward>)\n",
            "62 0 tensor(0.0054, device='cuda:0', grad_fn=<NllLossBackward>)\n",
            "63 0 tensor(0.0025, device='cuda:0', grad_fn=<NllLossBackward>)\n",
            "64 0 tensor(0.0028, device='cuda:0', grad_fn=<NllLossBackward>)\n",
            "65 0 tensor(0.0021, device='cuda:0', grad_fn=<NllLossBackward>)\n",
            "66 0 tensor(0.0053, device='cuda:0', grad_fn=<NllLossBackward>)\n",
            "67 0 tensor(0.0006, device='cuda:0', grad_fn=<NllLossBackward>)\n",
            "68 0 tensor(0.0040, device='cuda:0', grad_fn=<NllLossBackward>)\n",
            "69 0 tensor(0.0012, device='cuda:0', grad_fn=<NllLossBackward>)\n",
            "70 0 tensor(0.0016, device='cuda:0', grad_fn=<NllLossBackward>)\n",
            "71 0 tensor(0.0015, device='cuda:0', grad_fn=<NllLossBackward>)\n",
            "72 0 tensor(0.0009, device='cuda:0', grad_fn=<NllLossBackward>)\n",
            "73 0 tensor(0.0060, device='cuda:0', grad_fn=<NllLossBackward>)\n",
            "74 0 tensor(0.0007, device='cuda:0', grad_fn=<NllLossBackward>)\n",
            "75 0 tensor(0.0009, device='cuda:0', grad_fn=<NllLossBackward>)\n",
            "76 0 tensor(0.0002, device='cuda:0', grad_fn=<NllLossBackward>)\n",
            "77 0 tensor(0.0011, device='cuda:0', grad_fn=<NllLossBackward>)\n",
            "78 0 tensor(0.0009, device='cuda:0', grad_fn=<NllLossBackward>)\n",
            "79 0 tensor(0.0011, device='cuda:0', grad_fn=<NllLossBackward>)\n",
            "80 0 tensor(0.0011, device='cuda:0', grad_fn=<NllLossBackward>)\n",
            "81 0 tensor(0.0009, device='cuda:0', grad_fn=<NllLossBackward>)\n",
            "82 0 tensor(0.0001, device='cuda:0', grad_fn=<NllLossBackward>)\n",
            "83 0 tensor(0.0008, device='cuda:0', grad_fn=<NllLossBackward>)\n",
            "84 0 tensor(0.0018, device='cuda:0', grad_fn=<NllLossBackward>)\n",
            "85 0 tensor(0.0005, device='cuda:0', grad_fn=<NllLossBackward>)\n",
            "86 0 tensor(0.0003, device='cuda:0', grad_fn=<NllLossBackward>)\n",
            "87 0 tensor(0.0005, device='cuda:0', grad_fn=<NllLossBackward>)\n",
            "88 0 tensor(0.0004, device='cuda:0', grad_fn=<NllLossBackward>)\n",
            "89 0 tensor(0.0006, device='cuda:0', grad_fn=<NllLossBackward>)\n",
            "90 0 tensor(0.0002, device='cuda:0', grad_fn=<NllLossBackward>)\n",
            "91 0 tensor(0.0010, device='cuda:0', grad_fn=<NllLossBackward>)\n",
            "92 0 tensor(0.0008, device='cuda:0', grad_fn=<NllLossBackward>)\n",
            "93 0 tensor(0.0003, device='cuda:0', grad_fn=<NllLossBackward>)\n",
            "94 0 tensor(0.0001, device='cuda:0', grad_fn=<NllLossBackward>)\n",
            "95 0 tensor(0.0011, device='cuda:0', grad_fn=<NllLossBackward>)\n",
            "96 0 tensor(0.0003, device='cuda:0', grad_fn=<NllLossBackward>)\n",
            "97 0 tensor(0.0010, device='cuda:0', grad_fn=<NllLossBackward>)\n",
            "98 0 tensor(0.0005, device='cuda:0', grad_fn=<NllLossBackward>)\n",
            "99 0 tensor(0.0004, device='cuda:0', grad_fn=<NllLossBackward>)\n",
            "100 0 tensor(0.0004, device='cuda:0', grad_fn=<NllLossBackward>)\n",
            "101 0 tensor(0.0007, device='cuda:0', grad_fn=<NllLossBackward>)\n",
            "102 0 tensor(0.0008, device='cuda:0', grad_fn=<NllLossBackward>)\n",
            "103 0 tensor(0.0003, device='cuda:0', grad_fn=<NllLossBackward>)\n",
            "104 0 tensor(0.0001, device='cuda:0', grad_fn=<NllLossBackward>)\n",
            "105 0 tensor(0.0004, device='cuda:0', grad_fn=<NllLossBackward>)\n",
            "106 0 tensor(0.0007, device='cuda:0', grad_fn=<NllLossBackward>)\n",
            "107 0 tensor(0.0002, device='cuda:0', grad_fn=<NllLossBackward>)\n",
            "108 0 tensor(0.0003, device='cuda:0', grad_fn=<NllLossBackward>)\n",
            "109 0 tensor(0.0002, device='cuda:0', grad_fn=<NllLossBackward>)\n",
            "110 0 tensor(0.0003, device='cuda:0', grad_fn=<NllLossBackward>)\n",
            "111 0 tensor(0.0001, device='cuda:0', grad_fn=<NllLossBackward>)\n",
            "112 0 tensor(0.0004, device='cuda:0', grad_fn=<NllLossBackward>)\n",
            "113 0 tensor(0.0005, device='cuda:0', grad_fn=<NllLossBackward>)\n",
            "114 0 tensor(0.0004, device='cuda:0', grad_fn=<NllLossBackward>)\n",
            "115 0 tensor(0.0003, device='cuda:0', grad_fn=<NllLossBackward>)\n",
            "116 0 tensor(0.0002, device='cuda:0', grad_fn=<NllLossBackward>)\n",
            "117 0 tensor(0.0005, device='cuda:0', grad_fn=<NllLossBackward>)\n",
            "118 0 tensor(0.0003, device='cuda:0', grad_fn=<NllLossBackward>)\n",
            "119 0 tensor(0.0005, device='cuda:0', grad_fn=<NllLossBackward>)\n",
            "120 0 tensor(0.0003, device='cuda:0', grad_fn=<NllLossBackward>)\n",
            "121 0 tensor(0.0002, device='cuda:0', grad_fn=<NllLossBackward>)\n",
            "122 0 tensor(0.0002, device='cuda:0', grad_fn=<NllLossBackward>)\n",
            "123 0 tensor(0.0002, device='cuda:0', grad_fn=<NllLossBackward>)\n",
            "124 0 tensor(0.0006, device='cuda:0', grad_fn=<NllLossBackward>)\n",
            "125 0 tensor(0.0001, device='cuda:0', grad_fn=<NllLossBackward>)\n",
            "126 0 tensor(0.0003, device='cuda:0', grad_fn=<NllLossBackward>)\n",
            "127 0 tensor(0.0001, device='cuda:0', grad_fn=<NllLossBackward>)\n",
            "128 0 tensor(0.0002, device='cuda:0', grad_fn=<NllLossBackward>)\n",
            "129 0 tensor(8.5115e-05, device='cuda:0', grad_fn=<NllLossBackward>)\n",
            "130 0 tensor(0.0002, device='cuda:0', grad_fn=<NllLossBackward>)\n",
            "131 0 tensor(0.0008, device='cuda:0', grad_fn=<NllLossBackward>)\n",
            "132 0 tensor(0.0004, device='cuda:0', grad_fn=<NllLossBackward>)\n",
            "133 0 tensor(0.0005, device='cuda:0', grad_fn=<NllLossBackward>)\n",
            "134 0 tensor(6.1512e-05, device='cuda:0', grad_fn=<NllLossBackward>)\n",
            "135 0 tensor(0.0002, device='cuda:0', grad_fn=<NllLossBackward>)\n",
            "136 0 tensor(0.0003, device='cuda:0', grad_fn=<NllLossBackward>)\n",
            "137 0 tensor(0.0002, device='cuda:0', grad_fn=<NllLossBackward>)\n",
            "138 0 tensor(0.0002, device='cuda:0', grad_fn=<NllLossBackward>)\n",
            "139 0 tensor(0.0001, device='cuda:0', grad_fn=<NllLossBackward>)\n",
            "140 0 tensor(0.0002, device='cuda:0', grad_fn=<NllLossBackward>)\n",
            "141 0 tensor(0.0002, device='cuda:0', grad_fn=<NllLossBackward>)\n",
            "142 0 tensor(0.0008, device='cuda:0', grad_fn=<NllLossBackward>)\n",
            "143 0 tensor(0.0002, device='cuda:0', grad_fn=<NllLossBackward>)\n",
            "144 0 tensor(0.0003, device='cuda:0', grad_fn=<NllLossBackward>)\n",
            "145 0 tensor(0.0003, device='cuda:0', grad_fn=<NllLossBackward>)\n",
            "146 0 tensor(1.1504e-05, device='cuda:0', grad_fn=<NllLossBackward>)\n",
            "147 0 tensor(0.0004, device='cuda:0', grad_fn=<NllLossBackward>)\n",
            "148 0 tensor(0.0001, device='cuda:0', grad_fn=<NllLossBackward>)\n",
            "149 0 tensor(0.0003, device='cuda:0', grad_fn=<NllLossBackward>)\n"
          ],
          "name": "stdout"
        }
      ]
    },
    {
      "cell_type": "markdown",
      "metadata": {
        "id": "F4gAyKP5qDEE"
      },
      "source": [
        "# 기본형"
      ]
    },
    {
      "cell_type": "markdown",
      "metadata": {
        "id": "PQiJ1Gw5n4n-"
      },
      "source": [
        "기본형 1차 정확도 ( epoch 1, lr 0.002, bs 16)"
      ]
    },
    {
      "cell_type": "code",
      "metadata": {
        "id": "TMzEdoJynowV",
        "colab": {
          "base_uri": "https://localhost:8080/",
          "height": 71
        },
        "outputId": "8e6d43da-ed49-4804-9135-d30161d52a48"
      },
      "source": [
        "model.eval()\n",
        "ComputeAccr(test_loader, model)"
      ],
      "execution_count": null,
      "outputs": [
        {
          "output_type": "stream",
          "text": [
            "/usr/local/lib/python3.6/dist-packages/ipykernel_launcher.py:6: UserWarning: volatile was removed and now has no effect. Use `with torch.no_grad():` instead.\n",
            "  \n"
          ],
          "name": "stderr"
        },
        {
          "output_type": "stream",
          "text": [
            "Accuracy of Test Data : 13.039999961853027\n"
          ],
          "name": "stdout"
        }
      ]
    },
    {
      "cell_type": "markdown",
      "metadata": {
        "id": "oVqrojmwoWAG"
      },
      "source": [
        "기본형 2차 정확도 ( epoch 5, lr 0.002, bs 16)"
      ]
    },
    {
      "cell_type": "code",
      "metadata": {
        "id": "iup1ABieoNyF",
        "colab": {
          "base_uri": "https://localhost:8080/",
          "height": 71
        },
        "outputId": "11e4d6b8-4093-4cc8-9226-9a62fd2eb54a"
      },
      "source": [
        "model.eval()\n",
        "ComputeAccr(test_loader, model)"
      ],
      "execution_count": null,
      "outputs": [
        {
          "output_type": "stream",
          "text": [
            "/usr/local/lib/python3.6/dist-packages/ipykernel_launcher.py:6: UserWarning: volatile was removed and now has no effect. Use `with torch.no_grad():` instead.\n",
            "  \n"
          ],
          "name": "stderr"
        },
        {
          "output_type": "stream",
          "text": [
            "Accuracy of Test Data : 44.279998779296875\n"
          ],
          "name": "stdout"
        }
      ]
    },
    {
      "cell_type": "markdown",
      "metadata": {
        "id": "clw-a6dBof3X"
      },
      "source": [
        "기본형 3차 정확도 ( epoch 10, lr 0.002, bs 16)"
      ]
    },
    {
      "cell_type": "code",
      "metadata": {
        "id": "ypdzTcVSogGe",
        "colab": {
          "base_uri": "https://localhost:8080/",
          "height": 71
        },
        "outputId": "8c2458bd-45bf-4bcc-cee6-84faa83c0a8a"
      },
      "source": [
        "model.eval()\n",
        "ComputeAccr(test_loader, model)"
      ],
      "execution_count": null,
      "outputs": [
        {
          "output_type": "stream",
          "text": [
            "/usr/local/lib/python3.6/dist-packages/ipykernel_launcher.py:6: UserWarning: volatile was removed and now has no effect. Use `with torch.no_grad():` instead.\n",
            "  \n"
          ],
          "name": "stderr"
        },
        {
          "output_type": "stream",
          "text": [
            "Accuracy of Test Data : 53.87999725341797\n"
          ],
          "name": "stdout"
        }
      ]
    },
    {
      "cell_type": "markdown",
      "metadata": {
        "id": "kbsx_rLGpxhL"
      },
      "source": [
        "기본형 4차 정확도 ( epoch 20, lr 0.002, bs 16)"
      ]
    },
    {
      "cell_type": "code",
      "metadata": {
        "id": "WwANxQrlpx4z",
        "colab": {
          "base_uri": "https://localhost:8080/",
          "height": 71
        },
        "outputId": "bb0a6cae-976a-481b-fd50-46800e526e58"
      },
      "source": [
        "model.eval()\n",
        "ComputeAccr(test_loader, model)"
      ],
      "execution_count": null,
      "outputs": [
        {
          "output_type": "stream",
          "text": [
            "/usr/local/lib/python3.6/dist-packages/ipykernel_launcher.py:6: UserWarning: volatile was removed and now has no effect. Use `with torch.no_grad():` instead.\n",
            "  \n"
          ],
          "name": "stderr"
        },
        {
          "output_type": "stream",
          "text": [
            "Accuracy of Test Data : 63.57999801635742\n"
          ],
          "name": "stdout"
        }
      ]
    },
    {
      "cell_type": "markdown",
      "metadata": {
        "id": "yiVV6OobqJ9s"
      },
      "source": [
        "# Dropout"
      ]
    },
    {
      "cell_type": "markdown",
      "metadata": {
        "id": "4EwcCGSWo5zy"
      },
      "source": [
        "Drop out 1차 정확도 ( epoch 1, lr 0.002, bs 16, Drop 0.2)"
      ]
    },
    {
      "cell_type": "code",
      "metadata": {
        "id": "4eLRWK2lo5_R",
        "colab": {
          "base_uri": "https://localhost:8080/",
          "height": 71
        },
        "outputId": "3820f6f8-f58e-4831-d66a-aaa09ca82a05"
      },
      "source": [
        "model.eval()\n",
        "ComputeAccr(test_loader, model)"
      ],
      "execution_count": null,
      "outputs": [
        {
          "output_type": "stream",
          "text": [
            "/usr/local/lib/python3.6/dist-packages/ipykernel_launcher.py:6: UserWarning: volatile was removed and now has no effect. Use `with torch.no_grad():` instead.\n",
            "  \n"
          ],
          "name": "stderr"
        },
        {
          "output_type": "stream",
          "text": [
            "Accuracy of Test Data : 15.460000038146973\n"
          ],
          "name": "stdout"
        }
      ]
    },
    {
      "cell_type": "markdown",
      "metadata": {
        "id": "aQb0Ha_Eo6JZ"
      },
      "source": [
        "Drop out 2차 정확도 ( epoch 5, lr 0.002, bs 16, Drop 0.2)"
      ]
    },
    {
      "cell_type": "code",
      "metadata": {
        "id": "ygtYL18Do6R8",
        "colab": {
          "base_uri": "https://localhost:8080/",
          "height": 71
        },
        "outputId": "c9f7f0d6-b459-47bd-8d2a-365db772ece6"
      },
      "source": [
        "model.eval()\n",
        "ComputeAccr(test_loader, model)"
      ],
      "execution_count": null,
      "outputs": [
        {
          "output_type": "stream",
          "text": [
            "/usr/local/lib/python3.6/dist-packages/ipykernel_launcher.py:6: UserWarning: volatile was removed and now has no effect. Use `with torch.no_grad():` instead.\n",
            "  \n"
          ],
          "name": "stderr"
        },
        {
          "output_type": "stream",
          "text": [
            "Accuracy of Test Data : 37.55999755859375\n"
          ],
          "name": "stdout"
        }
      ]
    },
    {
      "cell_type": "markdown",
      "metadata": {
        "id": "7JjuBUWZo6bR"
      },
      "source": [
        "Drop out 3차 정확도 ( epoch 10, lr 0.002, bs 16, Drop 0.2)"
      ]
    },
    {
      "cell_type": "code",
      "metadata": {
        "id": "2htrn23Mo6jl",
        "colab": {
          "base_uri": "https://localhost:8080/",
          "height": 71
        },
        "outputId": "a17d060e-c7d3-49e7-d7b6-c37ece2a7e8b"
      },
      "source": [
        "model.eval()\n",
        "ComputeAccr(test_loader, model)"
      ],
      "execution_count": null,
      "outputs": [
        {
          "output_type": "stream",
          "text": [
            "/usr/local/lib/python3.6/dist-packages/ipykernel_launcher.py:6: UserWarning: volatile was removed and now has no effect. Use `with torch.no_grad():` instead.\n",
            "  \n"
          ],
          "name": "stderr"
        },
        {
          "output_type": "stream",
          "text": [
            "Accuracy of Test Data : 46.07999801635742\n"
          ],
          "name": "stdout"
        }
      ]
    },
    {
      "cell_type": "markdown",
      "metadata": {
        "id": "uGibGnrXp3Lm"
      },
      "source": [
        "Drop out 4차 정확도 ( epoch 20, lr 0.002, bs 16, Drop 0.2)"
      ]
    },
    {
      "cell_type": "code",
      "metadata": {
        "id": "93w9_Xnkp3Yv",
        "colab": {
          "base_uri": "https://localhost:8080/",
          "height": 71
        },
        "outputId": "de5dd6e0-c9d5-4ba9-c328-655c2bdc44de"
      },
      "source": [
        "model.eval()\n",
        "ComputeAccr(test_loader, model)"
      ],
      "execution_count": null,
      "outputs": [
        {
          "output_type": "stream",
          "text": [
            "/usr/local/lib/python3.6/dist-packages/ipykernel_launcher.py:6: UserWarning: volatile was removed and now has no effect. Use `with torch.no_grad():` instead.\n",
            "  \n"
          ],
          "name": "stderr"
        },
        {
          "output_type": "stream",
          "text": [
            "Accuracy of Test Data : 55.47999954223633\n"
          ],
          "name": "stdout"
        }
      ]
    },
    {
      "cell_type": "markdown",
      "metadata": {
        "id": "nUQvbAknrmo4"
      },
      "source": [
        "# Dropout 확률에 따른 정확도 ( Drop 0.2 / epoch 10 = 46.07999801635742)"
      ]
    },
    {
      "cell_type": "markdown",
      "metadata": {
        "id": "57PMUkd-rsiK"
      },
      "source": [
        "Drop out 변경 1차 정확도 ( epoch 10, lr 0.002, bs 16, Drop 0.1)"
      ]
    },
    {
      "cell_type": "code",
      "metadata": {
        "id": "hWE76Chhrsq6",
        "colab": {
          "base_uri": "https://localhost:8080/",
          "height": 71
        },
        "outputId": "216fa0fb-b754-4dbc-cea6-dc29a10f8c54"
      },
      "source": [
        "model.eval()\n",
        "ComputeAccr(test_loader, model)"
      ],
      "execution_count": null,
      "outputs": [
        {
          "output_type": "stream",
          "text": [
            "/usr/local/lib/python3.6/dist-packages/ipykernel_launcher.py:6: UserWarning: volatile was removed and now has no effect. Use `with torch.no_grad():` instead.\n",
            "  \n"
          ],
          "name": "stderr"
        },
        {
          "output_type": "stream",
          "text": [
            "Accuracy of Test Data : 50.939998626708984\n"
          ],
          "name": "stdout"
        }
      ]
    },
    {
      "cell_type": "markdown",
      "metadata": {
        "id": "cmHaowh6xua_"
      },
      "source": [
        "Drop out 변경 2차 정확도 ( epoch 10, lr 0.002, bs 16, Drop 0.15)"
      ]
    },
    {
      "cell_type": "code",
      "metadata": {
        "id": "e8dVB1jlxup3",
        "colab": {
          "base_uri": "https://localhost:8080/",
          "height": 71
        },
        "outputId": "dfc697eb-3532-49cd-baf8-62768c0a50bf"
      },
      "source": [
        "model.eval()\n",
        "ComputeAccr(test_loader, model)"
      ],
      "execution_count": null,
      "outputs": [
        {
          "output_type": "stream",
          "text": [
            "/usr/local/lib/python3.6/dist-packages/ipykernel_launcher.py:6: UserWarning: volatile was removed and now has no effect. Use `with torch.no_grad():` instead.\n",
            "  \n"
          ],
          "name": "stderr"
        },
        {
          "output_type": "stream",
          "text": [
            "Accuracy of Test Data : 48.61000061035156\n"
          ],
          "name": "stdout"
        }
      ]
    },
    {
      "cell_type": "markdown",
      "metadata": {
        "id": "AWNCcTdZxw3V"
      },
      "source": [
        "Drop out 변경 3차 정확도 ( epoch 10, lr 0.002, bs 16, Drop 0.25)"
      ]
    },
    {
      "cell_type": "code",
      "metadata": {
        "id": "nrompceYxxAS",
        "colab": {
          "base_uri": "https://localhost:8080/",
          "height": 71
        },
        "outputId": "5000a7f1-f18a-4df9-d6de-250b40c2432c"
      },
      "source": [
        "model.eval()\n",
        "ComputeAccr(test_loader, model)"
      ],
      "execution_count": null,
      "outputs": [
        {
          "output_type": "stream",
          "text": [
            "/usr/local/lib/python3.6/dist-packages/ipykernel_launcher.py:6: UserWarning: volatile was removed and now has no effect. Use `with torch.no_grad():` instead.\n",
            "  \n"
          ],
          "name": "stderr"
        },
        {
          "output_type": "stream",
          "text": [
            "Accuracy of Test Data : 45.07999801635742\n"
          ],
          "name": "stdout"
        }
      ]
    },
    {
      "cell_type": "markdown",
      "metadata": {
        "id": "ofAMQvw4rszy"
      },
      "source": [
        "Drop out 변경 4차 정확도 ( epoch 10, lr 0.002, bs 16, Drop 0.3)"
      ]
    },
    {
      "cell_type": "code",
      "metadata": {
        "id": "jLwY4p2prs71",
        "colab": {
          "base_uri": "https://localhost:8080/",
          "height": 71
        },
        "outputId": "71dd8e82-548d-4b11-9eec-f295f30af09b"
      },
      "source": [
        "model.eval()\n",
        "ComputeAccr(test_loader, model)"
      ],
      "execution_count": null,
      "outputs": [
        {
          "output_type": "stream",
          "text": [
            "/usr/local/lib/python3.6/dist-packages/ipykernel_launcher.py:6: UserWarning: volatile was removed and now has no effect. Use `with torch.no_grad():` instead.\n",
            "  \n"
          ],
          "name": "stderr"
        },
        {
          "output_type": "stream",
          "text": [
            "Accuracy of Test Data : 47.349998474121094\n"
          ],
          "name": "stdout"
        }
      ]
    },
    {
      "cell_type": "markdown",
      "metadata": {
        "id": "Pd4DxiZIrtlc"
      },
      "source": [
        "Drop out 변경 5차 정확도 ( epoch 10, lr 0.002, bs 16, Drop 0.4)"
      ]
    },
    {
      "cell_type": "code",
      "metadata": {
        "id": "mhP5cz0Ortv_",
        "colab": {
          "base_uri": "https://localhost:8080/",
          "height": 71
        },
        "outputId": "1e44b487-ee7e-47c5-b089-afb7ce90dc12"
      },
      "source": [
        "model.eval()\n",
        "ComputeAccr(test_loader, model)"
      ],
      "execution_count": null,
      "outputs": [
        {
          "output_type": "stream",
          "text": [
            "/usr/local/lib/python3.6/dist-packages/ipykernel_launcher.py:6: UserWarning: volatile was removed and now has no effect. Use `with torch.no_grad():` instead.\n",
            "  \n"
          ],
          "name": "stderr"
        },
        {
          "output_type": "stream",
          "text": [
            "Accuracy of Test Data : 44.02000045776367\n"
          ],
          "name": "stdout"
        }
      ]
    },
    {
      "cell_type": "markdown",
      "metadata": {
        "id": "JwJjB9-brvhw"
      },
      "source": [
        "Drop out 변경 6차 정확도 ( epoch 10, lr 0.002, bs 16, Drop 0.5)"
      ]
    },
    {
      "cell_type": "code",
      "metadata": {
        "id": "MWq1jo2vrvzo",
        "colab": {
          "base_uri": "https://localhost:8080/",
          "height": 71
        },
        "outputId": "d1cf52fa-2a95-4b47-d665-ac4cd5a9780d"
      },
      "source": [
        "model.eval()\n",
        "ComputeAccr(test_loader, model)"
      ],
      "execution_count": null,
      "outputs": [
        {
          "output_type": "stream",
          "text": [
            "/usr/local/lib/python3.6/dist-packages/ipykernel_launcher.py:6: UserWarning: volatile was removed and now has no effect. Use `with torch.no_grad():` instead.\n",
            "  \n"
          ],
          "name": "stderr"
        },
        {
          "output_type": "stream",
          "text": [
            "Accuracy of Test Data : 35.23999786376953\n"
          ],
          "name": "stdout"
        }
      ]
    },
    {
      "cell_type": "markdown",
      "metadata": {
        "id": "h6HSXgYHqNMa"
      },
      "source": [
        "# Data Argumentation"
      ]
    },
    {
      "cell_type": "markdown",
      "metadata": {
        "id": "UVtrZrTWpWQo"
      },
      "source": [
        "Data argumetation 1차 정확도 ( epoch 1, lr 0.002, bs 16)"
      ]
    },
    {
      "cell_type": "code",
      "metadata": {
        "id": "S82FfLClpWZo",
        "colab": {
          "base_uri": "https://localhost:8080/",
          "height": 71
        },
        "outputId": "a847baf3-8580-4b5d-bff6-e2e3903bff31"
      },
      "source": [
        "model.eval()\n",
        "ComputeAccr(test_loader, model)"
      ],
      "execution_count": null,
      "outputs": [
        {
          "output_type": "stream",
          "text": [
            "/usr/local/lib/python3.6/dist-packages/ipykernel_launcher.py:6: UserWarning: volatile was removed and now has no effect. Use `with torch.no_grad():` instead.\n",
            "  \n"
          ],
          "name": "stderr"
        },
        {
          "output_type": "stream",
          "text": [
            "Accuracy of Test Data : 11.519999504089355\n"
          ],
          "name": "stdout"
        }
      ]
    },
    {
      "cell_type": "markdown",
      "metadata": {
        "id": "n-B8MZICpWid"
      },
      "source": [
        "Data argumetation 2차 정확도 ( epoch 5, lr 0.002, bs 16)"
      ]
    },
    {
      "cell_type": "code",
      "metadata": {
        "id": "AhXIF_CgpWrZ",
        "colab": {
          "base_uri": "https://localhost:8080/",
          "height": 71
        },
        "outputId": "dc01baf7-b516-4efa-d17e-8006b80bfc9c"
      },
      "source": [
        "model.eval()\n",
        "ComputeAccr(test_loader, model)"
      ],
      "execution_count": null,
      "outputs": [
        {
          "output_type": "stream",
          "text": [
            "/usr/local/lib/python3.6/dist-packages/ipykernel_launcher.py:6: UserWarning: volatile was removed and now has no effect. Use `with torch.no_grad():` instead.\n",
            "  \n"
          ],
          "name": "stderr"
        },
        {
          "output_type": "stream",
          "text": [
            "Accuracy of Test Data : 24.420000076293945\n"
          ],
          "name": "stdout"
        }
      ]
    },
    {
      "cell_type": "markdown",
      "metadata": {
        "id": "yR3JXU2MpW0Z"
      },
      "source": [
        "Data argumetation 3차 정확도 ( epoch 10, lr 0.002, bs 16)"
      ]
    },
    {
      "cell_type": "code",
      "metadata": {
        "id": "qSjibU9HpW-M",
        "colab": {
          "base_uri": "https://localhost:8080/",
          "height": 71
        },
        "outputId": "23582959-ceec-4d5d-d2bc-ef6617f4c479"
      },
      "source": [
        "model.eval()\n",
        "ComputeAccr(test_loader, model)"
      ],
      "execution_count": null,
      "outputs": [
        {
          "output_type": "stream",
          "text": [
            "/usr/local/lib/python3.6/dist-packages/ipykernel_launcher.py:6: UserWarning: volatile was removed and now has no effect. Use `with torch.no_grad():` instead.\n",
            "  \n"
          ],
          "name": "stderr"
        },
        {
          "output_type": "stream",
          "text": [
            "Accuracy of Test Data : 20.619998931884766\n"
          ],
          "name": "stdout"
        }
      ]
    },
    {
      "cell_type": "markdown",
      "metadata": {
        "id": "c4P7nClNpXQi"
      },
      "source": [
        "Data argumetation 4차 정확도 ( epoch 20, lr 0.002, bs 16)"
      ]
    },
    {
      "cell_type": "code",
      "metadata": {
        "id": "WlFhHEFIpXZ6",
        "colab": {
          "base_uri": "https://localhost:8080/",
          "height": 71
        },
        "outputId": "2e6bf003-98c8-40cb-8cc2-3a84e2ecf006"
      },
      "source": [
        "model.eval()\n",
        "ComputeAccr(test_loader, model)"
      ],
      "execution_count": null,
      "outputs": [
        {
          "output_type": "stream",
          "text": [
            "/usr/local/lib/python3.6/dist-packages/ipykernel_launcher.py:6: UserWarning: volatile was removed and now has no effect. Use `with torch.no_grad():` instead.\n",
            "  \n"
          ],
          "name": "stderr"
        },
        {
          "output_type": "stream",
          "text": [
            "Accuracy of Test Data : 24.81999969482422\n"
          ],
          "name": "stdout"
        }
      ]
    },
    {
      "cell_type": "markdown",
      "metadata": {
        "id": "EeJP_KJl2vLk"
      },
      "source": [
        "Data argumetation 5차 정확도 ( epoch 40, lr 0.002, bs 16)"
      ]
    },
    {
      "cell_type": "code",
      "metadata": {
        "id": "zbWWbjIh2vVF",
        "colab": {
          "base_uri": "https://localhost:8080/",
          "height": 71
        },
        "outputId": "ea8f5f47-3402-428f-95e7-7b2e01d68731"
      },
      "source": [
        "model.eval()\n",
        "ComputeAccr(test_loader, model)"
      ],
      "execution_count": null,
      "outputs": [
        {
          "output_type": "stream",
          "text": [
            "/usr/local/lib/python3.6/dist-packages/ipykernel_launcher.py:6: UserWarning: volatile was removed and now has no effect. Use `with torch.no_grad():` instead.\n",
            "  \n"
          ],
          "name": "stderr"
        },
        {
          "output_type": "stream",
          "text": [
            "Accuracy of Test Data : 24.349998474121094\n"
          ],
          "name": "stdout"
        }
      ]
    },
    {
      "cell_type": "markdown",
      "metadata": {
        "id": "QyelbON05dPf"
      },
      "source": [
        "Data argumetation 6차 정확도 ( epoch 80, lr 0.002, bs 16)"
      ]
    },
    {
      "cell_type": "code",
      "metadata": {
        "id": "RsacFu8i5dZF",
        "colab": {
          "base_uri": "https://localhost:8080/",
          "height": 71
        },
        "outputId": "6143df8c-5596-4709-c970-0e6ab6c5388f"
      },
      "source": [
        "model.eval()\n",
        "ComputeAccr(test_loader, model)"
      ],
      "execution_count": null,
      "outputs": [
        {
          "output_type": "stream",
          "text": [
            "/usr/local/lib/python3.6/dist-packages/ipykernel_launcher.py:6: UserWarning: volatile was removed and now has no effect. Use `with torch.no_grad():` instead.\n",
            "  \n"
          ],
          "name": "stderr"
        },
        {
          "output_type": "stream",
          "text": [
            "Accuracy of Test Data : 24.69999885559082\n"
          ],
          "name": "stdout"
        }
      ]
    },
    {
      "cell_type": "markdown",
      "metadata": {
        "id": "9-zrAg9DpXi5"
      },
      "source": [
        "# Weight initialization"
      ]
    },
    {
      "cell_type": "markdown",
      "metadata": {
        "id": "PCGz_qsMqZfm"
      },
      "source": [
        "Weight initialization 1차 정확도 ( epoch 1, lr 0.002, bs 16)"
      ]
    },
    {
      "cell_type": "code",
      "metadata": {
        "id": "E1WxD3TXpXu3",
        "colab": {
          "base_uri": "https://localhost:8080/",
          "height": 71
        },
        "outputId": "f4271097-5b27-4f1c-807f-ba55e12442a3"
      },
      "source": [
        "model.eval()\n",
        "ComputeAccr(test_loader, model)"
      ],
      "execution_count": null,
      "outputs": [
        {
          "output_type": "stream",
          "text": [
            "/usr/local/lib/python3.6/dist-packages/ipykernel_launcher.py:6: UserWarning: volatile was removed and now has no effect. Use `with torch.no_grad():` instead.\n",
            "  \n"
          ],
          "name": "stderr"
        },
        {
          "output_type": "stream",
          "text": [
            "Accuracy of Test Data : 44.12999725341797\n"
          ],
          "name": "stdout"
        }
      ]
    },
    {
      "cell_type": "markdown",
      "metadata": {
        "id": "wbK8URKgp_Uv"
      },
      "source": [
        "Weight initialization 2차 정확도 ( epoch 5, lr 0.002, bs 16)"
      ]
    },
    {
      "cell_type": "code",
      "metadata": {
        "id": "Ce5MvJHTp_dO",
        "colab": {
          "base_uri": "https://localhost:8080/",
          "height": 71
        },
        "outputId": "deff213b-a0de-4a45-85df-2f1e0f2214be"
      },
      "source": [
        "model.eval()\n",
        "ComputeAccr(test_loader, model)"
      ],
      "execution_count": null,
      "outputs": [
        {
          "output_type": "stream",
          "text": [
            "/usr/local/lib/python3.6/dist-packages/ipykernel_launcher.py:6: UserWarning: volatile was removed and now has no effect. Use `with torch.no_grad():` instead.\n",
            "  \n"
          ],
          "name": "stderr"
        },
        {
          "output_type": "stream",
          "text": [
            "Accuracy of Test Data : 58.869998931884766\n"
          ],
          "name": "stdout"
        }
      ]
    },
    {
      "cell_type": "markdown",
      "metadata": {
        "id": "mjPZdmWpp_n4"
      },
      "source": [
        "Weight initialization 3차 정확도 ( epoch 10, lr 0.002, bs 16)"
      ]
    },
    {
      "cell_type": "code",
      "metadata": {
        "id": "GQoNTagKp_ww",
        "colab": {
          "base_uri": "https://localhost:8080/",
          "height": 71
        },
        "outputId": "68c074d7-c5aa-472b-ad9e-36e8649c103c"
      },
      "source": [
        "model.eval()\n",
        "ComputeAccr(test_loader, model)"
      ],
      "execution_count": null,
      "outputs": [
        {
          "output_type": "stream",
          "text": [
            "/usr/local/lib/python3.6/dist-packages/ipykernel_launcher.py:6: UserWarning: volatile was removed and now has no effect. Use `with torch.no_grad():` instead.\n",
            "  \n"
          ],
          "name": "stderr"
        },
        {
          "output_type": "stream",
          "text": [
            "Accuracy of Test Data : 67.0999984741211\n"
          ],
          "name": "stdout"
        }
      ]
    },
    {
      "cell_type": "markdown",
      "metadata": {
        "id": "BtWK2oLAp_52"
      },
      "source": [
        "Weight initialization 4차 정확도 ( epoch 20, lr 0.002, bs 16)"
      ]
    },
    {
      "cell_type": "code",
      "metadata": {
        "id": "awOSJMwwqAEP",
        "colab": {
          "base_uri": "https://localhost:8080/",
          "height": 71
        },
        "outputId": "0f96b244-8d19-44ff-9ffd-e1caad04678d"
      },
      "source": [
        "model.eval()\n",
        "ComputeAccr(test_loader, model)"
      ],
      "execution_count": null,
      "outputs": [
        {
          "output_type": "stream",
          "text": [
            "/usr/local/lib/python3.6/dist-packages/ipykernel_launcher.py:6: UserWarning: volatile was removed and now has no effect. Use `with torch.no_grad():` instead.\n",
            "  \n"
          ],
          "name": "stderr"
        },
        {
          "output_type": "stream",
          "text": [
            "Accuracy of Test Data : 69.88999938964844\n"
          ],
          "name": "stdout"
        }
      ]
    },
    {
      "cell_type": "markdown",
      "metadata": {
        "id": "vzToTlnUqqyi"
      },
      "source": [
        "# Data Normalization"
      ]
    },
    {
      "cell_type": "markdown",
      "metadata": {
        "id": "U_95mGWvqq7m"
      },
      "source": [
        "Data Normalization 1차 정확도 ( epoch 1, lr 0.002, bs 16)"
      ]
    },
    {
      "cell_type": "code",
      "metadata": {
        "id": "t8AihzrQqrLB",
        "colab": {
          "base_uri": "https://localhost:8080/",
          "height": 71
        },
        "outputId": "3fca920a-62fe-4c6e-d116-7097b5efea86"
      },
      "source": [
        "model.eval()\n",
        "ComputeAccr(test_loader, model)"
      ],
      "execution_count": null,
      "outputs": [
        {
          "output_type": "stream",
          "text": [
            "/usr/local/lib/python3.6/dist-packages/ipykernel_launcher.py:6: UserWarning: volatile was removed and now has no effect. Use `with torch.no_grad():` instead.\n",
            "  \n"
          ],
          "name": "stderr"
        },
        {
          "output_type": "stream",
          "text": [
            "Accuracy of Test Data : 27.619998931884766\n"
          ],
          "name": "stdout"
        }
      ]
    },
    {
      "cell_type": "markdown",
      "metadata": {
        "id": "CvMtPHERqxfD"
      },
      "source": [
        "Data Normalization 2차 정확도 ( epoch 5, lr 0.002, bs 16)"
      ]
    },
    {
      "cell_type": "code",
      "metadata": {
        "id": "l7JSed0tqxnQ",
        "colab": {
          "base_uri": "https://localhost:8080/",
          "height": 71
        },
        "outputId": "f29a5543-6d48-46c5-bb62-b7dbe6593f93"
      },
      "source": [
        "model.eval()\n",
        "ComputeAccr(test_loader, model)"
      ],
      "execution_count": null,
      "outputs": [
        {
          "output_type": "stream",
          "text": [
            "/usr/local/lib/python3.6/dist-packages/ipykernel_launcher.py:6: UserWarning: volatile was removed and now has no effect. Use `with torch.no_grad():` instead.\n",
            "  \n"
          ],
          "name": "stderr"
        },
        {
          "output_type": "stream",
          "text": [
            "Accuracy of Test Data : 51.07999801635742\n"
          ],
          "name": "stdout"
        }
      ]
    },
    {
      "cell_type": "markdown",
      "metadata": {
        "id": "eHqT3IgqqxwZ"
      },
      "source": [
        "Data Normalization 3차 정확도 ( epoch 10, lr 0.002, bs 16)"
      ]
    },
    {
      "cell_type": "code",
      "metadata": {
        "id": "zTRsj4Qnqx74",
        "colab": {
          "base_uri": "https://localhost:8080/",
          "height": 71
        },
        "outputId": "4f5011c3-3cb5-4069-cf34-9467caba5100"
      },
      "source": [
        "model.eval()\n",
        "ComputeAccr(test_loader, model)"
      ],
      "execution_count": null,
      "outputs": [
        {
          "output_type": "stream",
          "text": [
            "/usr/local/lib/python3.6/dist-packages/ipykernel_launcher.py:6: UserWarning: volatile was removed and now has no effect. Use `with torch.no_grad():` instead.\n",
            "  \n"
          ],
          "name": "stderr"
        },
        {
          "output_type": "stream",
          "text": [
            "Accuracy of Test Data : 59.91999816894531\n"
          ],
          "name": "stdout"
        }
      ]
    },
    {
      "cell_type": "markdown",
      "metadata": {
        "id": "JjIfVNUwqyUB"
      },
      "source": [
        "Data Normalization 4차 정확도 ( epoch 20, lr 0.002, bs 16)"
      ]
    },
    {
      "cell_type": "code",
      "metadata": {
        "id": "vVNk2sboqydy",
        "colab": {
          "base_uri": "https://localhost:8080/",
          "height": 71
        },
        "outputId": "66755a6e-c257-4c60-c96b-0cd80a6294c1"
      },
      "source": [
        "model.eval()\n",
        "ComputeAccr(test_loader, model)"
      ],
      "execution_count": null,
      "outputs": [
        {
          "output_type": "stream",
          "text": [
            "/usr/local/lib/python3.6/dist-packages/ipykernel_launcher.py:6: UserWarning: volatile was removed and now has no effect. Use `with torch.no_grad():` instead.\n",
            "  \n"
          ],
          "name": "stderr"
        },
        {
          "output_type": "stream",
          "text": [
            "Accuracy of Test Data : 67.31999969482422\n"
          ],
          "name": "stdout"
        }
      ]
    },
    {
      "cell_type": "markdown",
      "metadata": {
        "id": "Ehdnitt_sVAk"
      },
      "source": [
        "# Batch Normalization"
      ]
    },
    {
      "cell_type": "markdown",
      "metadata": {
        "id": "otjcg3EYsYpV"
      },
      "source": [
        "Batch Normalization 1차 정확도 ( epoch 1, lr 0.002, bs 16)"
      ]
    },
    {
      "cell_type": "code",
      "metadata": {
        "id": "d7C5ftYqsX_s",
        "colab": {
          "base_uri": "https://localhost:8080/",
          "height": 71
        },
        "outputId": "b7605f75-86ce-4f44-fb09-e837bd5bc2ff"
      },
      "source": [
        "model.eval()\n",
        "ComputeAccr(test_loader, model)"
      ],
      "execution_count": null,
      "outputs": [
        {
          "output_type": "stream",
          "text": [
            "/usr/local/lib/python3.6/dist-packages/ipykernel_launcher.py:6: UserWarning: volatile was removed and now has no effect. Use `with torch.no_grad():` instead.\n",
            "  \n"
          ],
          "name": "stderr"
        },
        {
          "output_type": "stream",
          "text": [
            "Accuracy of Test Data : 62.87999725341797\n"
          ],
          "name": "stdout"
        }
      ]
    },
    {
      "cell_type": "markdown",
      "metadata": {
        "id": "ar6GXEMNsZn6"
      },
      "source": [
        "Batch Normalization 2차 정확도 ( epoch 5, lr 0.002, bs 16)"
      ]
    },
    {
      "cell_type": "code",
      "metadata": {
        "id": "Z45Ldh7IsZ1r",
        "colab": {
          "base_uri": "https://localhost:8080/",
          "height": 71
        },
        "outputId": "def64cdb-b373-4771-f5a7-5503f21dc114"
      },
      "source": [
        "model.eval()\n",
        "ComputeAccr(test_loader, model)"
      ],
      "execution_count": null,
      "outputs": [
        {
          "output_type": "stream",
          "text": [
            "/usr/local/lib/python3.6/dist-packages/ipykernel_launcher.py:6: UserWarning: volatile was removed and now has no effect. Use `with torch.no_grad():` instead.\n",
            "  \n"
          ],
          "name": "stderr"
        },
        {
          "output_type": "stream",
          "text": [
            "Accuracy of Test Data : 71.23999786376953\n"
          ],
          "name": "stdout"
        }
      ]
    },
    {
      "cell_type": "markdown",
      "metadata": {
        "id": "HIMfG4b9sZ_z"
      },
      "source": [
        "Batch Normalization 3차 정확도 ( epoch 10, lr 0.002, bs 16)"
      ]
    },
    {
      "cell_type": "code",
      "metadata": {
        "id": "bCZaFIUesaKL",
        "colab": {
          "base_uri": "https://localhost:8080/",
          "height": 71
        },
        "outputId": "b9908531-6d55-4ff3-e815-ebe913e416d8"
      },
      "source": [
        "model.eval()\n",
        "ComputeAccr(test_loader, model)"
      ],
      "execution_count": null,
      "outputs": [
        {
          "output_type": "stream",
          "text": [
            "/usr/local/lib/python3.6/dist-packages/ipykernel_launcher.py:6: UserWarning: volatile was removed and now has no effect. Use `with torch.no_grad():` instead.\n",
            "  \n"
          ],
          "name": "stderr"
        },
        {
          "output_type": "stream",
          "text": [
            "Accuracy of Test Data : 72.48999786376953\n"
          ],
          "name": "stdout"
        }
      ]
    },
    {
      "cell_type": "markdown",
      "metadata": {
        "id": "wel1zew0saS6"
      },
      "source": [
        "Batch Normalization 4차 정확도 ( epoch 20, lr 0.002, bs 16)"
      ]
    },
    {
      "cell_type": "code",
      "metadata": {
        "id": "xLzDCREGsacz",
        "colab": {
          "base_uri": "https://localhost:8080/",
          "height": 71
        },
        "outputId": "977bf72c-90b9-49da-8e47-43e4641ec886"
      },
      "source": [
        "model.eval()\n",
        "ComputeAccr(test_loader, model)"
      ],
      "execution_count": null,
      "outputs": [
        {
          "output_type": "stream",
          "text": [
            "/usr/local/lib/python3.6/dist-packages/ipykernel_launcher.py:6: UserWarning: volatile was removed and now has no effect. Use `with torch.no_grad():` instead.\n",
            "  \n"
          ],
          "name": "stderr"
        },
        {
          "output_type": "stream",
          "text": [
            "Accuracy of Test Data : 72.72000122070312\n"
          ],
          "name": "stdout"
        }
      ]
    },
    {
      "cell_type": "markdown",
      "metadata": {
        "id": "-gtIkU9qtXcp"
      },
      "source": [
        "# Adam Optimizer"
      ]
    },
    {
      "cell_type": "markdown",
      "metadata": {
        "id": "9pjGJ-68tXuW"
      },
      "source": [
        "Adam Optimizer 1차 정확도 ( epoch 1, lr 0.002, bs 16)"
      ]
    },
    {
      "cell_type": "code",
      "metadata": {
        "id": "NOXUdZc4tYJd",
        "colab": {
          "base_uri": "https://localhost:8080/",
          "height": 71
        },
        "outputId": "4c6f9313-369d-4974-8530-9e935323712e"
      },
      "source": [
        "model.eval()\n",
        "ComputeAccr(test_loader, model)"
      ],
      "execution_count": null,
      "outputs": [
        {
          "output_type": "stream",
          "text": [
            "/usr/local/lib/python3.6/dist-packages/ipykernel_launcher.py:6: UserWarning: volatile was removed and now has no effect. Use `with torch.no_grad():` instead.\n",
            "  \n"
          ],
          "name": "stderr"
        },
        {
          "output_type": "stream",
          "text": [
            "Accuracy of Test Data : 58.13999938964844\n"
          ],
          "name": "stdout"
        }
      ]
    },
    {
      "cell_type": "markdown",
      "metadata": {
        "id": "lEm1eExxtthF"
      },
      "source": [
        "Adam Optimizer 2차 정확도 ( epoch 5, lr 0.002, bs 16)"
      ]
    },
    {
      "cell_type": "code",
      "metadata": {
        "id": "b0fMdUadttq1",
        "colab": {
          "base_uri": "https://localhost:8080/",
          "height": 71
        },
        "outputId": "efd2c78c-0208-46cd-a439-a41c8c0140e0"
      },
      "source": [
        "model.eval()\n",
        "ComputeAccr(test_loader, model)"
      ],
      "execution_count": null,
      "outputs": [
        {
          "output_type": "stream",
          "text": [
            "/usr/local/lib/python3.6/dist-packages/ipykernel_launcher.py:6: UserWarning: volatile was removed and now has no effect. Use `with torch.no_grad():` instead.\n",
            "  \n"
          ],
          "name": "stderr"
        },
        {
          "output_type": "stream",
          "text": [
            "Accuracy of Test Data : 67.65999603271484\n"
          ],
          "name": "stdout"
        }
      ]
    },
    {
      "cell_type": "markdown",
      "metadata": {
        "id": "GQjdEFxRtuH1"
      },
      "source": [
        "Adam Optimizer 3차 정확도 ( epoch 10, lr 0.002, bs 16)"
      ]
    },
    {
      "cell_type": "code",
      "metadata": {
        "id": "ntwvY50qtuQ2",
        "colab": {
          "base_uri": "https://localhost:8080/",
          "height": 71
        },
        "outputId": "3d204c8d-7dca-4eb7-ab8f-9bf0a6540629"
      },
      "source": [
        "model.eval()\n",
        "ComputeAccr(test_loader, model)"
      ],
      "execution_count": null,
      "outputs": [
        {
          "output_type": "stream",
          "text": [
            "/usr/local/lib/python3.6/dist-packages/ipykernel_launcher.py:6: UserWarning: volatile was removed and now has no effect. Use `with torch.no_grad():` instead.\n",
            "  \n"
          ],
          "name": "stderr"
        },
        {
          "output_type": "stream",
          "text": [
            "Accuracy of Test Data : 68.12999725341797\n"
          ],
          "name": "stdout"
        }
      ]
    },
    {
      "cell_type": "markdown",
      "metadata": {
        "id": "pB3gVPQ5tugp"
      },
      "source": [
        "Adam Optimizer 4차 정확도 ( epoch 20, lr 0.002, bs 16)"
      ]
    },
    {
      "cell_type": "code",
      "metadata": {
        "id": "psCF0D8AtunY",
        "colab": {
          "base_uri": "https://localhost:8080/",
          "height": 71
        },
        "outputId": "8cf16213-8f73-403d-950e-c8074751028d"
      },
      "source": [
        "model.eval()\n",
        "ComputeAccr(test_loader, model)"
      ],
      "execution_count": null,
      "outputs": [
        {
          "output_type": "stream",
          "text": [
            "/usr/local/lib/python3.6/dist-packages/ipykernel_launcher.py:6: UserWarning: volatile was removed and now has no effect. Use `with torch.no_grad():` instead.\n",
            "  \n"
          ],
          "name": "stderr"
        },
        {
          "output_type": "stream",
          "text": [
            "Accuracy of Test Data : 64.65999603271484\n"
          ],
          "name": "stdout"
        }
      ]
    },
    {
      "cell_type": "markdown",
      "metadata": {
        "id": "S6OVF_17tdTT"
      },
      "source": [
        "# Learning Rate decay"
      ]
    },
    {
      "cell_type": "markdown",
      "metadata": {
        "id": "fzb8_qI4td6N"
      },
      "source": [
        "Learning Rate Decay 1차 정확도 ( epoch 50, lr 0.002, bs 16)"
      ]
    },
    {
      "cell_type": "code",
      "metadata": {
        "id": "b1ljlzBvtdgD",
        "colab": {
          "base_uri": "https://localhost:8080/",
          "height": 71
        },
        "outputId": "2d80758e-c296-49c6-ea00-2342e6d9b459"
      },
      "source": [
        "model.eval()\n",
        "ComputeAccr(test_loader, model)"
      ],
      "execution_count": null,
      "outputs": [
        {
          "output_type": "stream",
          "text": [
            "/usr/local/lib/python3.6/dist-packages/ipykernel_launcher.py:6: UserWarning: volatile was removed and now has no effect. Use `with torch.no_grad():` instead.\n",
            "  \n"
          ],
          "name": "stderr"
        },
        {
          "output_type": "stream",
          "text": [
            "Accuracy of Test Data : 64.75\n"
          ],
          "name": "stdout"
        }
      ]
    },
    {
      "cell_type": "markdown",
      "metadata": {
        "id": "9DR_ZHjGuTvq"
      },
      "source": [
        "Learning Rate Decay 2차 정확도 ( epoch 75, lr 0.002, bs 16)"
      ]
    },
    {
      "cell_type": "code",
      "metadata": {
        "id": "rRw9j-emuT41",
        "colab": {
          "base_uri": "https://localhost:8080/",
          "height": 71
        },
        "outputId": "20cded73-b5fc-4400-efdb-32306e19034e"
      },
      "source": [
        "model.eval()\n",
        "ComputeAccr(test_loader, model)"
      ],
      "execution_count": null,
      "outputs": [
        {
          "output_type": "stream",
          "text": [
            "/usr/local/lib/python3.6/dist-packages/ipykernel_launcher.py:6: UserWarning: volatile was removed and now has no effect. Use `with torch.no_grad():` instead.\n",
            "  \n"
          ],
          "name": "stderr"
        },
        {
          "output_type": "stream",
          "text": [
            "Accuracy of Test Data : 65.72999572753906\n"
          ],
          "name": "stdout"
        }
      ]
    },
    {
      "cell_type": "markdown",
      "metadata": {
        "id": "bYDvP0eCuUOW"
      },
      "source": [
        "Learning Rate Decay 3차 정확도 ( epoch 100, lr 0.002, bs 16)"
      ]
    },
    {
      "cell_type": "code",
      "metadata": {
        "id": "_J89gdpSuUXW",
        "colab": {
          "base_uri": "https://localhost:8080/",
          "height": 71
        },
        "outputId": "94749188-7e64-42ed-cf27-ecdb2aae3ced"
      },
      "source": [
        "model.eval()\n",
        "ComputeAccr(test_loader, model)"
      ],
      "execution_count": null,
      "outputs": [
        {
          "output_type": "stream",
          "text": [
            "/usr/local/lib/python3.6/dist-packages/ipykernel_launcher.py:6: UserWarning: volatile was removed and now has no effect. Use `with torch.no_grad():` instead.\n",
            "  \n"
          ],
          "name": "stderr"
        },
        {
          "output_type": "stream",
          "text": [
            "Accuracy of Test Data : 65.56999969482422\n"
          ],
          "name": "stdout"
        }
      ]
    },
    {
      "cell_type": "markdown",
      "metadata": {
        "id": "QUQF5UoNuUnH"
      },
      "source": [
        "Learning Rate Decay 4차 정확도 ( epoch 150, lr 0.002, bs 16)"
      ]
    },
    {
      "cell_type": "code",
      "metadata": {
        "id": "VGiez5D9uUw-",
        "colab": {
          "base_uri": "https://localhost:8080/",
          "height": 71
        },
        "outputId": "da63d172-0727-4b96-fac7-17deb11893ab"
      },
      "source": [
        "model.eval()\n",
        "ComputeAccr(test_loader, model)"
      ],
      "execution_count": null,
      "outputs": [
        {
          "output_type": "stream",
          "text": [
            "/usr/local/lib/python3.6/dist-packages/ipykernel_launcher.py:6: UserWarning: volatile was removed and now has no effect. Use `with torch.no_grad():` instead.\n",
            "  \n"
          ],
          "name": "stderr"
        },
        {
          "output_type": "stream",
          "text": [
            "Accuracy of Test Data : 65.48999786376953\n"
          ],
          "name": "stdout"
        }
      ]
    },
    {
      "cell_type": "markdown",
      "metadata": {
        "id": "LIkrSw7_thH1"
      },
      "source": [
        "# 조합"
      ]
    },
    {
      "cell_type": "markdown",
      "metadata": {
        "id": "LCPQxa3tthSJ"
      },
      "source": [
        ""
      ]
    },
    {
      "cell_type": "code",
      "metadata": {
        "id": "tDys8jc-ther"
      },
      "source": [
        ""
      ],
      "execution_count": null,
      "outputs": []
    }
  ]
}